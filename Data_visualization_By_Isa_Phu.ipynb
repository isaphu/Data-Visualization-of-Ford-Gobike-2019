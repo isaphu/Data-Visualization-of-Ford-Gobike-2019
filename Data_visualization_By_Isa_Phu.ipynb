{
 "cells": [
  {
   "cell_type": "markdown",
   "metadata": {
    "slideshow": {
     "slide_type": "slide"
    }
   },
   "source": [
    "# Project: 2019 Ford Gobike's Bay Wheel Data Visualization "
   ]
  },
  {
   "cell_type": "markdown",
   "metadata": {
    "slideshow": {
     "slide_type": "slide"
    }
   },
   "source": [
    "## Table of Contents \n",
    "<a name=\"top\"></a>\n",
    "<ul>\n",
    "    <li><a href=\"#intro\">Introduction</a></li>\n",
    "    <li><a href=\"#q\">Question</a></li>\n",
    "    <li><a href=\"#dw\">Data Wrangling</a></li>\n",
    "    <li><a href=\"eda\">Exploratory Data Analysis</a></li>\n",
    "    <li><a href=\"edas\">Explanatory Data Analysis</a></li>\n",
    "    <li><a href=\"limit\">Limitation</a></li>\n",
    "    <li><a href=\"conclu\">Conclusion</a></li>\n",
    "</ul>"
   ]
  },
  {
   "cell_type": "markdown",
   "metadata": {
    "slideshow": {
     "slide_type": "slide"
    }
   },
   "source": [
    "<a id='intro'></a>\n",
    "## Introduction\n",
    "<a href=\"#top\">Back to Table of Content</a>\n",
    "> I have chosen a dataset on Ford Gobik's Bay Wheel Data. I am interested to see the trends such as consumer's age range e.g. customer segmentation, their starting and ending point of rental as well as frequencies of services usage. I will visualize the data by using seaborn and matplotlib.   "
   ]
  },
  {
   "cell_type": "markdown",
   "metadata": {},
   "source": [
    "<a id='dw'></a>\n",
    "## Data Wrangling\n",
    "<a href=\"#top\">Back to Table of Content</a>"
   ]
  },
  {
   "cell_type": "code",
   "execution_count": 69,
   "metadata": {},
   "outputs": [],
   "source": [
    "#import libraries\n",
    "import pandas as pd\n",
    "import glob\n",
    "import numpy as np\n",
    "import matplotlib.pyplot as plt\n",
    "import seaborn as sns \n",
    "sns.set(style=\"darkgrid\")"
   ]
  },
  {
   "cell_type": "code",
   "execution_count": 87,
   "metadata": {},
   "outputs": [
    {
     "name": "stderr",
     "output_type": "stream",
     "text": [
      "C:\\Users\\isaph\\anaconda3\\lib\\site-packages\\IPython\\core\\interactiveshell.py:3063: DtypeWarning: Columns (14) have mixed types.Specify dtype option on import or set low_memory=False.\n",
      "  interactivity=interactivity, compiler=compiler, result=result)\n",
      "C:\\Users\\isaph\\anaconda3\\lib\\site-packages\\IPython\\core\\interactiveshell.py:3063: DtypeWarning: Columns (13,14) have mixed types.Specify dtype option on import or set low_memory=False.\n",
      "  interactivity=interactivity, compiler=compiler, result=result)\n",
      "C:\\Users\\isaph\\anaconda3\\lib\\site-packages\\IPython\\core\\interactiveshell.py:3063: DtypeWarning: Columns (13) have mixed types.Specify dtype option on import or set low_memory=False.\n",
      "  interactivity=interactivity, compiler=compiler, result=result)\n"
     ]
    }
   ],
   "source": [
    "#combine all the year 2019 files in the dataset folder \n",
    "path = r'C:\\Users\\isaph\\Desktop\\Dataset' # use your path\n",
    "all_files = glob.glob(path + \"/*.csv\")\n",
    "\n",
    "li = []\n",
    "\n",
    "for filename in all_files:\n",
    "    df = pd.read_csv(filename, index_col=None, header=0)\n",
    "    li.append(df) \n",
    "\n",
    "df = pd.concat(li, axis=0, ignore_index=True)"
   ]
  },
  {
   "cell_type": "code",
   "execution_count": 80,
   "metadata": {},
   "outputs": [],
   "source": [
    "df.to_csv('2019bikedata.csv')"
   ]
  },
  {
   "cell_type": "code",
   "execution_count": 81,
   "metadata": {},
   "outputs": [
    {
     "name": "stderr",
     "output_type": "stream",
     "text": [
      "C:\\Users\\isaph\\anaconda3\\lib\\site-packages\\IPython\\core\\interactiveshell.py:3063: DtypeWarning: Columns (14,15) have mixed types.Specify dtype option on import or set low_memory=False.\n",
      "  interactivity=interactivity, compiler=compiler, result=result)\n"
     ]
    }
   ],
   "source": [
    "df = pd.read_csv('2019bikedata.csv')"
   ]
  },
  {
   "cell_type": "code",
   "execution_count": 88,
   "metadata": {},
   "outputs": [
    {
     "data": {
      "text/html": [
       "<div>\n",
       "<style scoped>\n",
       "    .dataframe tbody tr th:only-of-type {\n",
       "        vertical-align: middle;\n",
       "    }\n",
       "\n",
       "    .dataframe tbody tr th {\n",
       "        vertical-align: top;\n",
       "    }\n",
       "\n",
       "    .dataframe thead th {\n",
       "        text-align: right;\n",
       "    }\n",
       "</style>\n",
       "<table border=\"1\" class=\"dataframe\">\n",
       "  <thead>\n",
       "    <tr style=\"text-align: right;\">\n",
       "      <th></th>\n",
       "      <th>duration_sec</th>\n",
       "      <th>start_time</th>\n",
       "      <th>end_time</th>\n",
       "      <th>start_station_id</th>\n",
       "      <th>start_station_name</th>\n",
       "      <th>start_station_latitude</th>\n",
       "      <th>start_station_longitude</th>\n",
       "      <th>end_station_id</th>\n",
       "      <th>end_station_name</th>\n",
       "      <th>end_station_latitude</th>\n",
       "      <th>end_station_longitude</th>\n",
       "      <th>bike_id</th>\n",
       "      <th>user_type</th>\n",
       "      <th>bike_share_for_all_trip</th>\n",
       "      <th>rental_access_method</th>\n",
       "    </tr>\n",
       "  </thead>\n",
       "  <tbody>\n",
       "    <tr>\n",
       "      <th>0</th>\n",
       "      <td>80825</td>\n",
       "      <td>2019-01-31 17:57:44.6130</td>\n",
       "      <td>2019-02-01 16:24:49.8640</td>\n",
       "      <td>229.0</td>\n",
       "      <td>Foothill Blvd at 42nd Ave</td>\n",
       "      <td>37.775745</td>\n",
       "      <td>-122.213037</td>\n",
       "      <td>196.0</td>\n",
       "      <td>Grand Ave at Perkins St</td>\n",
       "      <td>37.808894</td>\n",
       "      <td>-122.256460</td>\n",
       "      <td>4861</td>\n",
       "      <td>Subscriber</td>\n",
       "      <td>No</td>\n",
       "      <td>NaN</td>\n",
       "    </tr>\n",
       "    <tr>\n",
       "      <th>1</th>\n",
       "      <td>65900</td>\n",
       "      <td>2019-01-31 20:58:33.8860</td>\n",
       "      <td>2019-02-01 15:16:54.1730</td>\n",
       "      <td>4.0</td>\n",
       "      <td>Cyril Magnin St at Ellis St</td>\n",
       "      <td>37.785881</td>\n",
       "      <td>-122.408915</td>\n",
       "      <td>134.0</td>\n",
       "      <td>Valencia St at 24th St</td>\n",
       "      <td>37.752428</td>\n",
       "      <td>-122.420628</td>\n",
       "      <td>5506</td>\n",
       "      <td>Subscriber</td>\n",
       "      <td>No</td>\n",
       "      <td>NaN</td>\n",
       "    </tr>\n",
       "    <tr>\n",
       "      <th>2</th>\n",
       "      <td>62633</td>\n",
       "      <td>2019-01-31 18:06:52.9240</td>\n",
       "      <td>2019-02-01 11:30:46.5300</td>\n",
       "      <td>245.0</td>\n",
       "      <td>Downtown Berkeley BART</td>\n",
       "      <td>37.870139</td>\n",
       "      <td>-122.268422</td>\n",
       "      <td>157.0</td>\n",
       "      <td>65th St at Hollis St</td>\n",
       "      <td>37.846784</td>\n",
       "      <td>-122.291376</td>\n",
       "      <td>2717</td>\n",
       "      <td>Customer</td>\n",
       "      <td>No</td>\n",
       "      <td>NaN</td>\n",
       "    </tr>\n",
       "    <tr>\n",
       "      <th>3</th>\n",
       "      <td>44680</td>\n",
       "      <td>2019-01-31 19:46:09.7190</td>\n",
       "      <td>2019-02-01 08:10:50.3180</td>\n",
       "      <td>85.0</td>\n",
       "      <td>Church St at Duboce Ave</td>\n",
       "      <td>37.770083</td>\n",
       "      <td>-122.429156</td>\n",
       "      <td>53.0</td>\n",
       "      <td>Grove St at Divisadero</td>\n",
       "      <td>37.775946</td>\n",
       "      <td>-122.437777</td>\n",
       "      <td>4557</td>\n",
       "      <td>Customer</td>\n",
       "      <td>No</td>\n",
       "      <td>NaN</td>\n",
       "    </tr>\n",
       "    <tr>\n",
       "      <th>4</th>\n",
       "      <td>60709</td>\n",
       "      <td>2019-01-31 14:19:01.5410</td>\n",
       "      <td>2019-02-01 07:10:51.0650</td>\n",
       "      <td>16.0</td>\n",
       "      <td>Steuart St at Market St</td>\n",
       "      <td>37.794130</td>\n",
       "      <td>-122.394430</td>\n",
       "      <td>28.0</td>\n",
       "      <td>The Embarcadero at Bryant St</td>\n",
       "      <td>37.787168</td>\n",
       "      <td>-122.388098</td>\n",
       "      <td>2100</td>\n",
       "      <td>Customer</td>\n",
       "      <td>No</td>\n",
       "      <td>NaN</td>\n",
       "    </tr>\n",
       "  </tbody>\n",
       "</table>\n",
       "</div>"
      ],
      "text/plain": [
       "   duration_sec                start_time                  end_time  \\\n",
       "0         80825  2019-01-31 17:57:44.6130  2019-02-01 16:24:49.8640   \n",
       "1         65900  2019-01-31 20:58:33.8860  2019-02-01 15:16:54.1730   \n",
       "2         62633  2019-01-31 18:06:52.9240  2019-02-01 11:30:46.5300   \n",
       "3         44680  2019-01-31 19:46:09.7190  2019-02-01 08:10:50.3180   \n",
       "4         60709  2019-01-31 14:19:01.5410  2019-02-01 07:10:51.0650   \n",
       "\n",
       "   start_station_id           start_station_name  start_station_latitude  \\\n",
       "0             229.0    Foothill Blvd at 42nd Ave               37.775745   \n",
       "1               4.0  Cyril Magnin St at Ellis St               37.785881   \n",
       "2             245.0       Downtown Berkeley BART               37.870139   \n",
       "3              85.0      Church St at Duboce Ave               37.770083   \n",
       "4              16.0      Steuart St at Market St               37.794130   \n",
       "\n",
       "   start_station_longitude  end_station_id              end_station_name  \\\n",
       "0              -122.213037           196.0       Grand Ave at Perkins St   \n",
       "1              -122.408915           134.0        Valencia St at 24th St   \n",
       "2              -122.268422           157.0          65th St at Hollis St   \n",
       "3              -122.429156            53.0        Grove St at Divisadero   \n",
       "4              -122.394430            28.0  The Embarcadero at Bryant St   \n",
       "\n",
       "   end_station_latitude  end_station_longitude  bike_id   user_type  \\\n",
       "0             37.808894            -122.256460     4861  Subscriber   \n",
       "1             37.752428            -122.420628     5506  Subscriber   \n",
       "2             37.846784            -122.291376     2717    Customer   \n",
       "3             37.775946            -122.437777     4557    Customer   \n",
       "4             37.787168            -122.388098     2100    Customer   \n",
       "\n",
       "  bike_share_for_all_trip rental_access_method  \n",
       "0                      No                  NaN  \n",
       "1                      No                  NaN  \n",
       "2                      No                  NaN  \n",
       "3                      No                  NaN  \n",
       "4                      No                  NaN  "
      ]
     },
     "execution_count": 88,
     "metadata": {},
     "output_type": "execute_result"
    }
   ],
   "source": [
    "df.head()"
   ]
  },
  {
   "cell_type": "code",
   "execution_count": 89,
   "metadata": {},
   "outputs": [],
   "source": [
    "#adding start_date and start_time\n",
    "df['start_date'] = pd.to_datetime(df['start_time']).dt.date\n",
    "df['start_time'] = pd.to_datetime(df['start_time']).dt.time"
   ]
  },
  {
   "cell_type": "code",
   "execution_count": 90,
   "metadata": {},
   "outputs": [],
   "source": [
    "#adding ending_time\n",
    "df['end_date'] = pd.to_datetime(df['end_time']).dt.date\n",
    "df['end_time'] = pd.to_datetime(df['end_time']).dt.time"
   ]
  },
  {
   "cell_type": "code",
   "execution_count": 92,
   "metadata": {},
   "outputs": [],
   "source": [
    "#convert duration seconds to hours \n",
    "df['duration_min']=df['duration_sec']/60\n",
    "df['duration_hr']=df['duration_min']/60\n",
    "df['duration_min']=df['duration_min'].astype(float)\n",
    "df['duration_hr']=df['duration_hr'].astype(float)"
   ]
  },
  {
   "cell_type": "code",
   "execution_count": 94,
   "metadata": {},
   "outputs": [],
   "source": [
    "#drop unnessesary columns\n",
    "df.drop(['start_station_latitude','start_station_longitude', 'end_station_latitude', 'end_station_longitude','bike_share_for_all_trip'], axis=1, inplace=True)"
   ]
  },
  {
   "cell_type": "code",
   "execution_count": 95,
   "metadata": {},
   "outputs": [],
   "source": [
    "#adding day and month colum extracting from start_date\n",
    "df['day'] = df['start_date'].apply(lambda r:r.day).astype(int)\n",
    "df['month'] = df['start_date'].apply(lambda r:r.month).astype(int)"
   ]
  },
  {
   "cell_type": "code",
   "execution_count": 98,
   "metadata": {},
   "outputs": [],
   "source": [
    "#drop any NAN/missing value columns in the dataframe\n",
    "df.dropna(axis=0,how='any',inplace=True)"
   ]
  },
  {
   "cell_type": "code",
   "execution_count": 107,
   "metadata": {},
   "outputs": [],
   "source": [
    "#convert data type from float to str\n",
    "df['start_station_id'] = df['start_station_id'].astype(str)\n",
    "df['end_station_id'] = df['end_station_id'].astype(str)"
   ]
  },
  {
   "cell_type": "code",
   "execution_count": 108,
   "metadata": {},
   "outputs": [
    {
     "data": {
      "text/plain": [
       "duration_sec            0\n",
       "start_time              0\n",
       "end_time                0\n",
       "start_station_id        0\n",
       "start_station_name      0\n",
       "end_station_id          0\n",
       "end_station_name        0\n",
       "bike_id                 0\n",
       "user_type               0\n",
       "rental_access_method    0\n",
       "start_date              0\n",
       "end_date                0\n",
       "duration_min            0\n",
       "duration_hr             0\n",
       "day                     0\n",
       "month                   0\n",
       "dtype: int64"
      ]
     },
     "execution_count": 108,
     "metadata": {},
     "output_type": "execute_result"
    }
   ],
   "source": [
    "df.isnull().sum()"
   ]
  },
  {
   "cell_type": "code",
   "execution_count": 109,
   "metadata": {},
   "outputs": [
    {
     "name": "stdout",
     "output_type": "stream",
     "text": [
      "<class 'pandas.core.frame.DataFrame'>\n",
      "Int64Index: 21859 entries, 1241040 to 2506660\n",
      "Data columns (total 16 columns):\n",
      " #   Column                Non-Null Count  Dtype  \n",
      "---  ------                --------------  -----  \n",
      " 0   duration_sec          21859 non-null  int64  \n",
      " 1   start_time            21859 non-null  object \n",
      " 2   end_time              21859 non-null  object \n",
      " 3   start_station_id      21859 non-null  object \n",
      " 4   start_station_name    21859 non-null  object \n",
      " 5   end_station_id        21859 non-null  object \n",
      " 6   end_station_name      21859 non-null  object \n",
      " 7   bike_id               21859 non-null  int64  \n",
      " 8   user_type             21859 non-null  object \n",
      " 9   rental_access_method  21859 non-null  object \n",
      " 10  start_date            21859 non-null  object \n",
      " 11  end_date              21859 non-null  object \n",
      " 12  duration_min          21859 non-null  float64\n",
      " 13  duration_hr           21859 non-null  float64\n",
      " 14  day                   21859 non-null  int32  \n",
      " 15  month                 21859 non-null  int32  \n",
      "dtypes: float64(2), int32(2), int64(2), object(10)\n",
      "memory usage: 2.7+ MB\n"
     ]
    }
   ],
   "source": [
    "#df overview\n",
    "df.info()"
   ]
  },
  {
   "cell_type": "code",
   "execution_count": 110,
   "metadata": {},
   "outputs": [
    {
     "data": {
      "text/plain": [
       "(21859, 16)"
      ]
     },
     "execution_count": 110,
     "metadata": {},
     "output_type": "execute_result"
    }
   ],
   "source": [
    "#rows and columns \n",
    "df.shape"
   ]
  },
  {
   "cell_type": "code",
   "execution_count": 111,
   "metadata": {},
   "outputs": [
    {
     "data": {
      "text/html": [
       "<div>\n",
       "<style scoped>\n",
       "    .dataframe tbody tr th:only-of-type {\n",
       "        vertical-align: middle;\n",
       "    }\n",
       "\n",
       "    .dataframe tbody tr th {\n",
       "        vertical-align: top;\n",
       "    }\n",
       "\n",
       "    .dataframe thead th {\n",
       "        text-align: right;\n",
       "    }\n",
       "</style>\n",
       "<table border=\"1\" class=\"dataframe\">\n",
       "  <thead>\n",
       "    <tr style=\"text-align: right;\">\n",
       "      <th></th>\n",
       "      <th>duration_sec</th>\n",
       "      <th>start_time</th>\n",
       "      <th>end_time</th>\n",
       "      <th>start_station_id</th>\n",
       "      <th>start_station_name</th>\n",
       "      <th>end_station_id</th>\n",
       "      <th>end_station_name</th>\n",
       "      <th>bike_id</th>\n",
       "      <th>user_type</th>\n",
       "      <th>rental_access_method</th>\n",
       "      <th>start_date</th>\n",
       "      <th>end_date</th>\n",
       "      <th>duration_min</th>\n",
       "      <th>duration_hr</th>\n",
       "      <th>day</th>\n",
       "      <th>month</th>\n",
       "    </tr>\n",
       "  </thead>\n",
       "  <tbody>\n",
       "    <tr>\n",
       "      <th>1241040</th>\n",
       "      <td>395</td>\n",
       "      <td>12:19:51</td>\n",
       "      <td>12:26:27</td>\n",
       "      <td>425.0</td>\n",
       "      <td>Bird Ave at Willow St</td>\n",
       "      <td>312.0</td>\n",
       "      <td>San Jose Diridon Station</td>\n",
       "      <td>102949</td>\n",
       "      <td>Customer</td>\n",
       "      <td>app</td>\n",
       "      <td>2019-06-17</td>\n",
       "      <td>2019-06-17</td>\n",
       "      <td>6.583333</td>\n",
       "      <td>0.109722</td>\n",
       "      <td>17</td>\n",
       "      <td>6</td>\n",
       "    </tr>\n",
       "    <tr>\n",
       "      <th>1241041</th>\n",
       "      <td>750</td>\n",
       "      <td>13:27:27</td>\n",
       "      <td>13:39:57</td>\n",
       "      <td>425.0</td>\n",
       "      <td>Bird Ave at Willow St</td>\n",
       "      <td>296.0</td>\n",
       "      <td>5th St at Virginia St</td>\n",
       "      <td>655088</td>\n",
       "      <td>Subscriber</td>\n",
       "      <td>app</td>\n",
       "      <td>2019-06-27</td>\n",
       "      <td>2019-06-27</td>\n",
       "      <td>12.500000</td>\n",
       "      <td>0.208333</td>\n",
       "      <td>27</td>\n",
       "      <td>6</td>\n",
       "    </tr>\n",
       "    <tr>\n",
       "      <th>1241128</th>\n",
       "      <td>540</td>\n",
       "      <td>20:09:37</td>\n",
       "      <td>20:18:38</td>\n",
       "      <td>406.0</td>\n",
       "      <td>Parkmoor Ave at Race St</td>\n",
       "      <td>300.0</td>\n",
       "      <td>Palm St at Willow St</td>\n",
       "      <td>382355</td>\n",
       "      <td>Subscriber</td>\n",
       "      <td>app</td>\n",
       "      <td>2019-06-19</td>\n",
       "      <td>2019-06-19</td>\n",
       "      <td>9.000000</td>\n",
       "      <td>0.150000</td>\n",
       "      <td>19</td>\n",
       "      <td>6</td>\n",
       "    </tr>\n",
       "    <tr>\n",
       "      <th>1241147</th>\n",
       "      <td>446</td>\n",
       "      <td>07:59:58</td>\n",
       "      <td>08:07:24</td>\n",
       "      <td>300.0</td>\n",
       "      <td>Palm St at Willow St</td>\n",
       "      <td>313.0</td>\n",
       "      <td>Almaden Blvd at San Fernando St</td>\n",
       "      <td>295032</td>\n",
       "      <td>Subscriber</td>\n",
       "      <td>app</td>\n",
       "      <td>2019-06-17</td>\n",
       "      <td>2019-06-17</td>\n",
       "      <td>7.433333</td>\n",
       "      <td>0.123889</td>\n",
       "      <td>17</td>\n",
       "      <td>6</td>\n",
       "    </tr>\n",
       "    <tr>\n",
       "      <th>1241165</th>\n",
       "      <td>458</td>\n",
       "      <td>08:06:32</td>\n",
       "      <td>08:14:11</td>\n",
       "      <td>301.0</td>\n",
       "      <td>Willow St at Vine St</td>\n",
       "      <td>313.0</td>\n",
       "      <td>Almaden Blvd at San Fernando St</td>\n",
       "      <td>314345</td>\n",
       "      <td>Subscriber</td>\n",
       "      <td>app</td>\n",
       "      <td>2019-06-18</td>\n",
       "      <td>2019-06-18</td>\n",
       "      <td>7.633333</td>\n",
       "      <td>0.127222</td>\n",
       "      <td>18</td>\n",
       "      <td>6</td>\n",
       "    </tr>\n",
       "    <tr>\n",
       "      <th>1241200</th>\n",
       "      <td>81</td>\n",
       "      <td>11:47:27</td>\n",
       "      <td>11:48:49</td>\n",
       "      <td>423.0</td>\n",
       "      <td>South San Jose State (7th St at Humboldt St)</td>\n",
       "      <td>423.0</td>\n",
       "      <td>South San Jose State (7th St at Humboldt St)</td>\n",
       "      <td>861099</td>\n",
       "      <td>Customer</td>\n",
       "      <td>app</td>\n",
       "      <td>2019-06-26</td>\n",
       "      <td>2019-06-26</td>\n",
       "      <td>1.350000</td>\n",
       "      <td>0.022500</td>\n",
       "      <td>26</td>\n",
       "      <td>6</td>\n",
       "    </tr>\n",
       "    <tr>\n",
       "      <th>1241201</th>\n",
       "      <td>1516</td>\n",
       "      <td>20:46:14</td>\n",
       "      <td>21:11:30</td>\n",
       "      <td>423.0</td>\n",
       "      <td>South San Jose State (7th St at Humboldt St)</td>\n",
       "      <td>417.0</td>\n",
       "      <td>Park Ave at Race St</td>\n",
       "      <td>295032</td>\n",
       "      <td>Subscriber</td>\n",
       "      <td>clipper</td>\n",
       "      <td>2019-06-20</td>\n",
       "      <td>2019-06-20</td>\n",
       "      <td>25.266667</td>\n",
       "      <td>0.421111</td>\n",
       "      <td>20</td>\n",
       "      <td>6</td>\n",
       "    </tr>\n",
       "    <tr>\n",
       "      <th>1241207</th>\n",
       "      <td>457</td>\n",
       "      <td>20:25:06</td>\n",
       "      <td>20:32:43</td>\n",
       "      <td>423.0</td>\n",
       "      <td>South San Jose State (7th St at Humboldt St)</td>\n",
       "      <td>327.0</td>\n",
       "      <td>5th St at San Salvador St</td>\n",
       "      <td>163217</td>\n",
       "      <td>Subscriber</td>\n",
       "      <td>app</td>\n",
       "      <td>2019-06-20</td>\n",
       "      <td>2019-06-20</td>\n",
       "      <td>7.616667</td>\n",
       "      <td>0.126944</td>\n",
       "      <td>20</td>\n",
       "      <td>6</td>\n",
       "    </tr>\n",
       "    <tr>\n",
       "      <th>1241208</th>\n",
       "      <td>429</td>\n",
       "      <td>20:25:23</td>\n",
       "      <td>20:32:32</td>\n",
       "      <td>423.0</td>\n",
       "      <td>South San Jose State (7th St at Humboldt St)</td>\n",
       "      <td>327.0</td>\n",
       "      <td>5th St at San Salvador St</td>\n",
       "      <td>638483</td>\n",
       "      <td>Subscriber</td>\n",
       "      <td>app</td>\n",
       "      <td>2019-06-20</td>\n",
       "      <td>2019-06-20</td>\n",
       "      <td>7.150000</td>\n",
       "      <td>0.119167</td>\n",
       "      <td>20</td>\n",
       "      <td>6</td>\n",
       "    </tr>\n",
       "    <tr>\n",
       "      <th>1241214</th>\n",
       "      <td>829</td>\n",
       "      <td>16:18:15</td>\n",
       "      <td>16:32:05</td>\n",
       "      <td>427.0</td>\n",
       "      <td>Auzerais Ave at Lincoln Ave</td>\n",
       "      <td>282.0</td>\n",
       "      <td>Market St at Park St</td>\n",
       "      <td>363691</td>\n",
       "      <td>Subscriber</td>\n",
       "      <td>app</td>\n",
       "      <td>2019-06-23</td>\n",
       "      <td>2019-06-23</td>\n",
       "      <td>13.816667</td>\n",
       "      <td>0.230278</td>\n",
       "      <td>23</td>\n",
       "      <td>6</td>\n",
       "    </tr>\n",
       "  </tbody>\n",
       "</table>\n",
       "</div>"
      ],
      "text/plain": [
       "         duration_sec start_time  end_time start_station_id  \\\n",
       "1241040           395   12:19:51  12:26:27            425.0   \n",
       "1241041           750   13:27:27  13:39:57            425.0   \n",
       "1241128           540   20:09:37  20:18:38            406.0   \n",
       "1241147           446   07:59:58  08:07:24            300.0   \n",
       "1241165           458   08:06:32  08:14:11            301.0   \n",
       "1241200            81   11:47:27  11:48:49            423.0   \n",
       "1241201          1516   20:46:14  21:11:30            423.0   \n",
       "1241207           457   20:25:06  20:32:43            423.0   \n",
       "1241208           429   20:25:23  20:32:32            423.0   \n",
       "1241214           829   16:18:15  16:32:05            427.0   \n",
       "\n",
       "                                   start_station_name end_station_id  \\\n",
       "1241040                         Bird Ave at Willow St          312.0   \n",
       "1241041                         Bird Ave at Willow St          296.0   \n",
       "1241128                       Parkmoor Ave at Race St          300.0   \n",
       "1241147                          Palm St at Willow St          313.0   \n",
       "1241165                          Willow St at Vine St          313.0   \n",
       "1241200  South San Jose State (7th St at Humboldt St)          423.0   \n",
       "1241201  South San Jose State (7th St at Humboldt St)          417.0   \n",
       "1241207  South San Jose State (7th St at Humboldt St)          327.0   \n",
       "1241208  South San Jose State (7th St at Humboldt St)          327.0   \n",
       "1241214                   Auzerais Ave at Lincoln Ave          282.0   \n",
       "\n",
       "                                     end_station_name  bike_id   user_type  \\\n",
       "1241040                      San Jose Diridon Station   102949    Customer   \n",
       "1241041                         5th St at Virginia St   655088  Subscriber   \n",
       "1241128                          Palm St at Willow St   382355  Subscriber   \n",
       "1241147               Almaden Blvd at San Fernando St   295032  Subscriber   \n",
       "1241165               Almaden Blvd at San Fernando St   314345  Subscriber   \n",
       "1241200  South San Jose State (7th St at Humboldt St)   861099    Customer   \n",
       "1241201                           Park Ave at Race St   295032  Subscriber   \n",
       "1241207                     5th St at San Salvador St   163217  Subscriber   \n",
       "1241208                     5th St at San Salvador St   638483  Subscriber   \n",
       "1241214                          Market St at Park St   363691  Subscriber   \n",
       "\n",
       "        rental_access_method  start_date    end_date  duration_min  \\\n",
       "1241040                  app  2019-06-17  2019-06-17      6.583333   \n",
       "1241041                  app  2019-06-27  2019-06-27     12.500000   \n",
       "1241128                  app  2019-06-19  2019-06-19      9.000000   \n",
       "1241147                  app  2019-06-17  2019-06-17      7.433333   \n",
       "1241165                  app  2019-06-18  2019-06-18      7.633333   \n",
       "1241200                  app  2019-06-26  2019-06-26      1.350000   \n",
       "1241201              clipper  2019-06-20  2019-06-20     25.266667   \n",
       "1241207                  app  2019-06-20  2019-06-20      7.616667   \n",
       "1241208                  app  2019-06-20  2019-06-20      7.150000   \n",
       "1241214                  app  2019-06-23  2019-06-23     13.816667   \n",
       "\n",
       "         duration_hr  day  month  \n",
       "1241040     0.109722   17      6  \n",
       "1241041     0.208333   27      6  \n",
       "1241128     0.150000   19      6  \n",
       "1241147     0.123889   17      6  \n",
       "1241165     0.127222   18      6  \n",
       "1241200     0.022500   26      6  \n",
       "1241201     0.421111   20      6  \n",
       "1241207     0.126944   20      6  \n",
       "1241208     0.119167   20      6  \n",
       "1241214     0.230278   23      6  "
      ]
     },
     "execution_count": 111,
     "metadata": {},
     "output_type": "execute_result"
    }
   ],
   "source": [
    "df.head(10)"
   ]
  },
  {
   "cell_type": "markdown",
   "metadata": {},
   "source": [
    "<a id='eda'></a>\n",
    "## Exploratory Data Analysis\n",
    "<a href=\"#top\">Back to Table of Content</a>"
   ]
  },
  {
   "cell_type": "markdown",
   "metadata": {},
   "source": [
    "##"
   ]
  },
  {
   "cell_type": "code",
   "execution_count": null,
   "metadata": {},
   "outputs": [],
   "source": []
  },
  {
   "cell_type": "code",
   "execution_count": null,
   "metadata": {},
   "outputs": [],
   "source": []
  },
  {
   "cell_type": "code",
   "execution_count": null,
   "metadata": {},
   "outputs": [],
   "source": []
  },
  {
   "cell_type": "code",
   "execution_count": null,
   "metadata": {},
   "outputs": [],
   "source": []
  },
  {
   "cell_type": "code",
   "execution_count": null,
   "metadata": {},
   "outputs": [],
   "source": []
  },
  {
   "cell_type": "code",
   "execution_count": null,
   "metadata": {},
   "outputs": [],
   "source": []
  },
  {
   "cell_type": "markdown",
   "metadata": {},
   "source": [
    "<a id='edas'></a>\n",
    "## Explanatory Data Analysis\n",
    "<a href=\"#top\">Back to Table of Content</a>"
   ]
  },
  {
   "cell_type": "markdown",
   "metadata": {},
   "source": [
    "<a id='limit'></a>\n",
    "## Limitation\n",
    "<a href=\"#top\">Back to Table of Content</a>"
   ]
  },
  {
   "cell_type": "markdown",
   "metadata": {},
   "source": [
    "<a id='conclu'></a>\n",
    "## Conclusion\n",
    "<a href=\"#top\">Back to Table of Content</a>"
   ]
  }
 ],
 "metadata": {
  "kernelspec": {
   "display_name": "Python 3",
   "language": "python",
   "name": "python3"
  },
  "language_info": {
   "codemirror_mode": {
    "name": "ipython",
    "version": 3
   },
   "file_extension": ".py",
   "mimetype": "text/x-python",
   "name": "python",
   "nbconvert_exporter": "python",
   "pygments_lexer": "ipython3",
   "version": "3.7.6"
  }
 },
 "nbformat": 4,
 "nbformat_minor": 4
}
