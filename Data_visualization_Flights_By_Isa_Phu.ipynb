{
 "cells": [
  {
   "cell_type": "markdown",
   "metadata": {},
   "source": [
    "# Project: Data Visualization on Flights in the US during January 2019"
   ]
  },
  {
   "cell_type": "markdown",
   "metadata": {},
   "source": [
    "## Table of Contents \n",
    "<a name=\"top\"></a>\n",
    "<ul>\n",
    "    <li><a href=\"#intro\">Introduction</a></li>\n",
    "    <li><a href=\"#q\">Question</a></li>\n",
    "    <li><a href=\"#dw\">Data Wrangling</a></li>\n",
    "    <li><a href=\"eda\">Exploratory Data Analysis</a></li>\n",
    "    <li><a href=\"edas\">Explanatory Data Analysis</a></li>\n",
    "    <li><a href=\"limit\">Limitation</a></li>\n",
    "    <li><a href=\"conclu\">Conclusion</a></li>\n",
    "</ul>"
   ]
  },
  {
   "cell_type": "markdown",
   "metadata": {},
   "source": [
    "<a id='intro'></a>\n",
    "## Introduction\n",
    "<a href=\"#top\">Back to Table of Content</a>\n",
    "> I have chosen a dataset on US flights during the month of January 2019. I am interested to see what causes the flight delay by visualize many features that are available on the dataset such as airline and its hub, origin and destination, departure & arrival performance and cancellations and diversion. The dataset is made available by the US Department of Transportation. "
   ]
  },
  {
   "cell_type": "markdown",
   "metadata": {},
   "source": [
    "<a id='q'></a>\n",
    "## Question \n",
    "<a href=\"#top\">Back to Table of Content</a>\n",
    "> <strong>What is the main cause of the flight delay? I will visualize factors such as airline and its hub, origin and destination, departure & arrival performance and cancellations and diversion</strong>."
   ]
  },
  {
   "cell_type": "markdown",
   "metadata": {},
   "source": [
    "<a id='dw'></a>\n",
    "## Data Wrangling\n",
    "<a href=\"#top\">Back to Table of Content</a>"
   ]
  },
  {
   "cell_type": "code",
   "execution_count": 2,
   "metadata": {},
   "outputs": [],
   "source": [
    "#import libraries\n",
    "import pandas as pd\n",
    "import numpy as np\n",
    "import matplotlib.pyplot as plt\n",
    "import seaborn as sns \n",
    "sns.set(style=\"darkgrid\")"
   ]
  },
  {
   "cell_type": "code",
   "execution_count": 3,
   "metadata": {},
   "outputs": [
    {
     "data": {
      "text/html": [
       "<div>\n",
       "<style scoped>\n",
       "    .dataframe tbody tr th:only-of-type {\n",
       "        vertical-align: middle;\n",
       "    }\n",
       "\n",
       "    .dataframe tbody tr th {\n",
       "        vertical-align: top;\n",
       "    }\n",
       "\n",
       "    .dataframe thead th {\n",
       "        text-align: right;\n",
       "    }\n",
       "</style>\n",
       "<table border=\"1\" class=\"dataframe\">\n",
       "  <thead>\n",
       "    <tr style=\"text-align: right;\">\n",
       "      <th></th>\n",
       "      <th>MONTH</th>\n",
       "      <th>DAY_OF_MONTH</th>\n",
       "      <th>DAY_OF_WEEK</th>\n",
       "      <th>OP_UNIQUE_CARRIER</th>\n",
       "      <th>OP_CARRIER_FL_NUM</th>\n",
       "      <th>ORIGIN</th>\n",
       "      <th>DEST</th>\n",
       "      <th>DEP_TIME</th>\n",
       "      <th>DEP_DELAY</th>\n",
       "      <th>ARR_TIME</th>\n",
       "      <th>ARR_DELAY</th>\n",
       "      <th>CANCELLED</th>\n",
       "      <th>CANCELLATION_CODE</th>\n",
       "      <th>DIVERTED</th>\n",
       "      <th>AIR_TIME</th>\n",
       "      <th>Unnamed: 15</th>\n",
       "    </tr>\n",
       "  </thead>\n",
       "  <tbody>\n",
       "    <tr>\n",
       "      <th>0</th>\n",
       "      <td>1</td>\n",
       "      <td>3</td>\n",
       "      <td>4</td>\n",
       "      <td>9E</td>\n",
       "      <td>5121</td>\n",
       "      <td>TYS</td>\n",
       "      <td>ATL</td>\n",
       "      <td>1205.0</td>\n",
       "      <td>25.0</td>\n",
       "      <td>1315.0</td>\n",
       "      <td>25.0</td>\n",
       "      <td>0.0</td>\n",
       "      <td>NaN</td>\n",
       "      <td>0.0</td>\n",
       "      <td>36.0</td>\n",
       "      <td>NaN</td>\n",
       "    </tr>\n",
       "    <tr>\n",
       "      <th>1</th>\n",
       "      <td>1</td>\n",
       "      <td>4</td>\n",
       "      <td>5</td>\n",
       "      <td>9E</td>\n",
       "      <td>5121</td>\n",
       "      <td>TYS</td>\n",
       "      <td>ATL</td>\n",
       "      <td>1250.0</td>\n",
       "      <td>70.0</td>\n",
       "      <td>1412.0</td>\n",
       "      <td>82.0</td>\n",
       "      <td>0.0</td>\n",
       "      <td>NaN</td>\n",
       "      <td>0.0</td>\n",
       "      <td>38.0</td>\n",
       "      <td>NaN</td>\n",
       "    </tr>\n",
       "    <tr>\n",
       "      <th>2</th>\n",
       "      <td>1</td>\n",
       "      <td>5</td>\n",
       "      <td>6</td>\n",
       "      <td>9E</td>\n",
       "      <td>5122</td>\n",
       "      <td>ATL</td>\n",
       "      <td>SGF</td>\n",
       "      <td>956.0</td>\n",
       "      <td>6.0</td>\n",
       "      <td>1043.0</td>\n",
       "      <td>-8.0</td>\n",
       "      <td>0.0</td>\n",
       "      <td>NaN</td>\n",
       "      <td>0.0</td>\n",
       "      <td>84.0</td>\n",
       "      <td>NaN</td>\n",
       "    </tr>\n",
       "    <tr>\n",
       "      <th>3</th>\n",
       "      <td>1</td>\n",
       "      <td>6</td>\n",
       "      <td>7</td>\n",
       "      <td>9E</td>\n",
       "      <td>5122</td>\n",
       "      <td>ATL</td>\n",
       "      <td>SGF</td>\n",
       "      <td>945.0</td>\n",
       "      <td>-5.0</td>\n",
       "      <td>1029.0</td>\n",
       "      <td>-24.0</td>\n",
       "      <td>0.0</td>\n",
       "      <td>NaN</td>\n",
       "      <td>0.0</td>\n",
       "      <td>85.0</td>\n",
       "      <td>NaN</td>\n",
       "    </tr>\n",
       "    <tr>\n",
       "      <th>4</th>\n",
       "      <td>1</td>\n",
       "      <td>7</td>\n",
       "      <td>1</td>\n",
       "      <td>9E</td>\n",
       "      <td>5122</td>\n",
       "      <td>ATL</td>\n",
       "      <td>SGF</td>\n",
       "      <td>947.0</td>\n",
       "      <td>-3.0</td>\n",
       "      <td>1044.0</td>\n",
       "      <td>-9.0</td>\n",
       "      <td>0.0</td>\n",
       "      <td>NaN</td>\n",
       "      <td>0.0</td>\n",
       "      <td>88.0</td>\n",
       "      <td>NaN</td>\n",
       "    </tr>\n",
       "  </tbody>\n",
       "</table>\n",
       "</div>"
      ],
      "text/plain": [
       "   MONTH  DAY_OF_MONTH  DAY_OF_WEEK OP_UNIQUE_CARRIER  OP_CARRIER_FL_NUM  \\\n",
       "0      1             3            4                9E               5121   \n",
       "1      1             4            5                9E               5121   \n",
       "2      1             5            6                9E               5122   \n",
       "3      1             6            7                9E               5122   \n",
       "4      1             7            1                9E               5122   \n",
       "\n",
       "  ORIGIN DEST  DEP_TIME  DEP_DELAY  ARR_TIME  ARR_DELAY  CANCELLED  \\\n",
       "0    TYS  ATL    1205.0       25.0    1315.0       25.0        0.0   \n",
       "1    TYS  ATL    1250.0       70.0    1412.0       82.0        0.0   \n",
       "2    ATL  SGF     956.0        6.0    1043.0       -8.0        0.0   \n",
       "3    ATL  SGF     945.0       -5.0    1029.0      -24.0        0.0   \n",
       "4    ATL  SGF     947.0       -3.0    1044.0       -9.0        0.0   \n",
       "\n",
       "  CANCELLATION_CODE  DIVERTED  AIR_TIME  Unnamed: 15  \n",
       "0               NaN       0.0      36.0          NaN  \n",
       "1               NaN       0.0      38.0          NaN  \n",
       "2               NaN       0.0      84.0          NaN  \n",
       "3               NaN       0.0      85.0          NaN  \n",
       "4               NaN       0.0      88.0          NaN  "
      ]
     },
     "execution_count": 3,
     "metadata": {},
     "output_type": "execute_result"
    }
   ],
   "source": [
    "#loading dataset \n",
    "df = pd.read_csv('flights_jan_2019.csv')\n",
    "df.head()"
   ]
  },
  {
   "cell_type": "code",
   "execution_count": 4,
   "metadata": {},
   "outputs": [
    {
     "name": "stdout",
     "output_type": "stream",
     "text": [
      "<class 'pandas.core.frame.DataFrame'>\n",
      "RangeIndex: 583985 entries, 0 to 583984\n",
      "Data columns (total 16 columns):\n",
      " #   Column             Non-Null Count   Dtype  \n",
      "---  ------             --------------   -----  \n",
      " 0   MONTH              583985 non-null  int64  \n",
      " 1   DAY_OF_MONTH       583985 non-null  int64  \n",
      " 2   DAY_OF_WEEK        583985 non-null  int64  \n",
      " 3   OP_UNIQUE_CARRIER  583985 non-null  object \n",
      " 4   OP_CARRIER_FL_NUM  583985 non-null  int64  \n",
      " 5   ORIGIN             583985 non-null  object \n",
      " 6   DEST               583985 non-null  object \n",
      " 7   DEP_TIME           567633 non-null  float64\n",
      " 8   DEP_DELAY          567630 non-null  float64\n",
      " 9   ARR_TIME           566924 non-null  float64\n",
      " 10  ARR_DELAY          565963 non-null  float64\n",
      " 11  CANCELLED          583985 non-null  float64\n",
      " 12  CANCELLATION_CODE  16726 non-null   object \n",
      " 13  DIVERTED           583985 non-null  float64\n",
      " 14  AIR_TIME           565963 non-null  float64\n",
      " 15  Unnamed: 15        0 non-null       float64\n",
      "dtypes: float64(8), int64(4), object(4)\n",
      "memory usage: 71.3+ MB\n"
     ]
    }
   ],
   "source": [
    "#the dataset is messy and not tidy as well\n",
    "df.info()"
   ]
  },
  {
   "cell_type": "markdown",
   "metadata": {},
   "source": [
    "> First I will address the cells with null and will drop every cell that doesn't have any value."
   ]
  },
  {
   "cell_type": "code",
   "execution_count": null,
   "metadata": {},
   "outputs": [],
   "source": []
  },
  {
   "cell_type": "code",
   "execution_count": null,
   "metadata": {},
   "outputs": [],
   "source": []
  },
  {
   "cell_type": "code",
   "execution_count": null,
   "metadata": {},
   "outputs": [],
   "source": []
  },
  {
   "cell_type": "code",
   "execution_count": null,
   "metadata": {},
   "outputs": [],
   "source": []
  },
  {
   "cell_type": "code",
   "execution_count": null,
   "metadata": {},
   "outputs": [],
   "source": []
  },
  {
   "cell_type": "code",
   "execution_count": null,
   "metadata": {},
   "outputs": [],
   "source": []
  },
  {
   "cell_type": "code",
   "execution_count": null,
   "metadata": {},
   "outputs": [],
   "source": []
  },
  {
   "cell_type": "code",
   "execution_count": null,
   "metadata": {},
   "outputs": [],
   "source": []
  },
  {
   "cell_type": "code",
   "execution_count": null,
   "metadata": {},
   "outputs": [],
   "source": []
  },
  {
   "cell_type": "code",
   "execution_count": null,
   "metadata": {},
   "outputs": [],
   "source": []
  },
  {
   "cell_type": "code",
   "execution_count": null,
   "metadata": {},
   "outputs": [],
   "source": []
  },
  {
   "cell_type": "code",
   "execution_count": null,
   "metadata": {},
   "outputs": [],
   "source": []
  },
  {
   "cell_type": "code",
   "execution_count": null,
   "metadata": {},
   "outputs": [],
   "source": []
  },
  {
   "cell_type": "markdown",
   "metadata": {},
   "source": [
    "<a id='eda'></a>\n",
    "## Exploratory Data Analysis\n",
    "<a href=\"#top\">Back to Table of Content</a>"
   ]
  },
  {
   "cell_type": "markdown",
   "metadata": {},
   "source": [
    "<a id='edas'></a>\n",
    "## Explanatory Data Analysis\n",
    "<a href=\"#top\">Back to Table of Content</a>"
   ]
  },
  {
   "cell_type": "markdown",
   "metadata": {},
   "source": [
    "<a id='limit'></a>\n",
    "## Limitation\n",
    "<a href=\"#top\">Back to Table of Content</a>"
   ]
  },
  {
   "cell_type": "markdown",
   "metadata": {},
   "source": [
    "<a id='conclu'></a>\n",
    "## Conclusion\n",
    "<a href=\"#top\">Back to Table of Content</a>"
   ]
  }
 ],
 "metadata": {
  "kernelspec": {
   "display_name": "Python 3",
   "language": "python",
   "name": "python3"
  },
  "language_info": {
   "codemirror_mode": {
    "name": "ipython",
    "version": 3
   },
   "file_extension": ".py",
   "mimetype": "text/x-python",
   "name": "python",
   "nbconvert_exporter": "python",
   "pygments_lexer": "ipython3",
   "version": "3.7.6"
  }
 },
 "nbformat": 4,
 "nbformat_minor": 4
}
